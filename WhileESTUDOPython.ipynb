{
 "cells": [
  {
   "cell_type": "code",
   "execution_count": 8,
   "id": "6bbefc7e",
   "metadata": {},
   "outputs": [
    {
     "name": "stdout",
     "output_type": "stream",
     "text": [
      "1\n",
      "2\n",
      "3\n",
      "4\n",
      "5\n",
      "6\n",
      "7\n",
      "8\n",
      "9\n",
      "10\n"
     ]
    }
   ],
   "source": [
    "#while  \n",
    "\n",
    "numero = 1\n",
    "\n",
    "while numero <= 10:\n",
    "    print(numero)\n",
    "    \n",
    "    numero += 1\n",
    "    #numero = numero + 1"
   ]
  },
  {
   "cell_type": "code",
   "execution_count": null,
   "id": "acd03a01",
   "metadata": {},
   "outputs": [],
   "source": []
  },
  {
   "cell_type": "code",
   "execution_count": 9,
   "id": "c6edeab8",
   "metadata": {},
   "outputs": [
    {
     "name": "stdout",
     "output_type": "stream",
     "text": [
      "10\n",
      "9\n",
      "8\n",
      "7\n",
      "6\n",
      "5\n",
      "4\n",
      "3\n",
      "2\n",
      "1\n"
     ]
    }
   ],
   "source": [
    "contador = 10\n",
    "\n",
    "while contador >=1:\n",
    "\n",
    "    print(contador)\n",
    "    \n",
    "    contador -= 1\n",
    "    #contador = contador - 1"
   ]
  },
  {
   "cell_type": "code",
   "execution_count": null,
   "id": "251d65f2",
   "metadata": {},
   "outputs": [],
   "source": []
  },
  {
   "cell_type": "code",
   "execution_count": 11,
   "id": "b43cb941",
   "metadata": {},
   "outputs": [
    {
     "name": "stdout",
     "output_type": "stream",
     "text": [
      "10\n",
      "8\n",
      "6\n",
      "4\n",
      "2\n"
     ]
    }
   ],
   "source": [
    "contador = 10\n",
    "\n",
    "while contador >=1:\n",
    "\n",
    "    print(contador)\n",
    "    \n",
    "    contador -= 2"
   ]
  },
  {
   "cell_type": "code",
   "execution_count": null,
   "id": "7f3ab1c4",
   "metadata": {},
   "outputs": [],
   "source": []
  },
  {
   "cell_type": "code",
   "execution_count": 15,
   "id": "49aec68a",
   "metadata": {
    "scrolled": true
   },
   "outputs": [
    {
     "name": "stdout",
     "output_type": "stream",
     "text": [
      "Números: 1\n",
      "Números: 2\n",
      "Números: 3\n",
      "Números: 4\n",
      "Números: 5\n",
      "Números: 6\n",
      "Números: 7\n",
      "Números: 8\n",
      "Números: 9\n",
      "Números: 10\n",
      "Números impressos com sucesso!\n"
     ]
    }
   ],
   "source": [
    "contador = 0\n",
    "\n",
    "while contador < 10:\n",
    "    \n",
    "    contador += 1\n",
    "    \n",
    "    print(\"Números:\", contador)\n",
    "    \n",
    "else:\n",
    "    \n",
    "    print(\"Números impressos com sucesso!\")"
   ]
  },
  {
   "cell_type": "code",
   "execution_count": null,
   "id": "9f0df55e",
   "metadata": {},
   "outputs": [],
   "source": []
  },
  {
   "cell_type": "code",
   "execution_count": 20,
   "id": "f9f3588c",
   "metadata": {},
   "outputs": [
    {
     "name": "stdout",
     "output_type": "stream",
     "text": [
      "1\n",
      "2\n",
      "3\n",
      "4\n",
      "5\n"
     ]
    }
   ],
   "source": [
    "num = 1\n",
    "\n",
    "while num < 100:\n",
    "    \n",
    "    print(num)\n",
    "    \n",
    "    if num == 5:\n",
    "        \n",
    "        break\n",
    "    num += 1"
   ]
  },
  {
   "cell_type": "code",
   "execution_count": null,
   "id": "c7e6db61",
   "metadata": {},
   "outputs": [],
   "source": []
  },
  {
   "cell_type": "code",
   "execution_count": 52,
   "id": "144d7620",
   "metadata": {},
   "outputs": [
    {
     "name": "stdout",
     "output_type": "stream",
     "text": [
      "Linha:  0  - Coluna:  0\n",
      "Linha:  0  - Coluna:  1\n",
      "Linha:  0  - Coluna:  2\n",
      "Linha:  1  - Coluna:  0\n",
      "Linha:  1  - Coluna:  1\n",
      "Linha:  1  - Coluna:  2\n",
      "Linha:  2  - Coluna:  0\n",
      "Linha:  2  - Coluna:  1\n",
      "Linha:  2  - Coluna:  2\n"
     ]
    }
   ],
   "source": [
    "linha = 0\n",
    "\n",
    "while linha < 3:\n",
    "        \n",
    "    coluna = 0\n",
    "        \n",
    "    while coluna <3:\n",
    "            \n",
    "        print(\"Linha: \", linha, \" - Coluna: \", coluna)\n",
    "            \n",
    "        coluna += 1\n",
    "            \n",
    "    linha += 1"
   ]
  },
  {
   "cell_type": "code",
   "execution_count": null,
   "id": "9284ecf5",
   "metadata": {},
   "outputs": [],
   "source": []
  },
  {
   "cell_type": "code",
   "execution_count": 59,
   "id": "e466d8e7",
   "metadata": {},
   "outputs": [
    {
     "name": "stdout",
     "output_type": "stream",
     "text": [
      "Digite um número maior que 1: 10\n",
      "1\n",
      "2\n",
      "3\n",
      "4\n",
      "5\n",
      "6\n",
      "7\n",
      "8\n",
      "9\n",
      "10\n"
     ]
    }
   ],
   "source": [
    "numInicial = 1\n",
    "\n",
    "numFinal = int(input(\"Digite um número maior que 1: \"))\n",
    "\n",
    "while numInicial <= numFinal:\n",
    "\n",
    "    print(numInicial)\n",
    "    \n",
    "    numInicial += 1\n",
    "    \n"
   ]
  },
  {
   "cell_type": "code",
   "execution_count": null,
   "id": "6b42fcaa",
   "metadata": {},
   "outputs": [],
   "source": []
  },
  {
   "cell_type": "code",
   "execution_count": 3,
   "id": "ceb4dd64",
   "metadata": {},
   "outputs": [
    {
     "name": "stdout",
     "output_type": "stream",
     "text": [
      "Digite um inteiro maior que 1: 30\n",
      "Números pares entre 1 e  30 :\n",
      "2 4 6 8 10 12 14 16 18 20 22 24 26 28 30 "
     ]
    }
   ],
   "source": [
    "num = 1\n",
    "\n",
    "max = int(input(\"Digite um inteiro maior que 1: \"))\n",
    "\n",
    "print(\"Números pares entre 1 e \", max, \":\")\n",
    "\n",
    "while num <= max:\n",
    "    if num % 2 == 0:\n",
    "        print(num, end=\" \")\n",
    "        \n",
    "    num+=1"
   ]
  },
  {
   "cell_type": "code",
   "execution_count": null,
   "id": "ed0ad352",
   "metadata": {},
   "outputs": [],
   "source": []
  },
  {
   "cell_type": "code",
   "execution_count": 7,
   "id": "6f007001",
   "metadata": {},
   "outputs": [
    {
     "name": "stdout",
     "output_type": "stream",
     "text": [
      "Digite a senha: \n",
      "Senha incorreta, tente novamente: admin\n",
      "Senha correta!\n"
     ]
    }
   ],
   "source": [
    "#exercicio\n",
    "\n",
    "senha = \"admin\"\n",
    "\n",
    "senhaDigitada = input(\"Digite a senha: \")\n",
    "\n",
    "while senhaDigitada != senha:\n",
    "    senhaDigitada = input(\"Senha incorreta, tente novamente: \")\n",
    "    \n",
    "print(\"Senha correta!\")"
   ]
  },
  {
   "cell_type": "code",
   "execution_count": null,
   "id": "e8244987",
   "metadata": {},
   "outputs": [],
   "source": []
  },
  {
   "cell_type": "code",
   "execution_count": 11,
   "id": "ca0c3f05",
   "metadata": {},
   "outputs": [
    {
     "name": "stdout",
     "output_type": "stream",
     "text": [
      "Digite 'sair' para encerrar: sair\n"
     ]
    }
   ],
   "source": [
    "while True:\n",
    "    \n",
    "    user_input = input(\"Digite 'sair' para encerrar: \")\n",
    "                       \n",
    "    if user_input == 'sair':\n",
    "        break"
   ]
  },
  {
   "cell_type": "code",
   "execution_count": null,
   "id": "b8f92331",
   "metadata": {},
   "outputs": [],
   "source": []
  },
  {
   "cell_type": "code",
   "execution_count": 1,
   "id": "60019f7f",
   "metadata": {},
   "outputs": [
    {
     "name": "stdout",
     "output_type": "stream",
     "text": [
      "44\n",
      "Digite o seu palpite: 30\n",
      "O número secreto é maior. Tente novamente!\n",
      "Digite o seu palpite: 35\n",
      "O número secreto é maior. Tente novamente!\n",
      "Digite o seu palpite: 40\n",
      "O número secreto é maior. Tente novamente!\n",
      "Digite o seu palpite: 55\n",
      "O número secreto é menor. Tente novamente!\n",
      "Digite o seu palpite: 44\n",
      "Parabéns! Você acertou o número secreto 44 em 5 tentativas\n"
     ]
    }
   ],
   "source": [
    "import random\n",
    "\n",
    "numero_secreto = random.randint(1, 100)\n",
    "tentativas = 0\n",
    "\n",
    "print(numero_secreto)\n",
    "\n",
    "while True:\n",
    "    \n",
    "    palpite = int(input(\"Digite o seu palpite: \"))\n",
    "    tentativas += 1\n",
    "    \n",
    "    if palpite < numero_secreto:\n",
    "        print(\"O número secreto é maior. Tente novamente!\")\n",
    "        \n",
    "    elif palpite > numero_secreto:\n",
    "        print(\"O número secreto é menor. Tente novamente!\")\n",
    "        \n",
    "    else:\n",
    "        \n",
    "        print(f\"Parabéns! Você acertou o número secreto {numero_secreto} em {tentativas} tentativas\")\n",
    "        break\n",
    "        \n",
    "        "
   ]
  },
  {
   "cell_type": "code",
   "execution_count": null,
   "id": "780682aa",
   "metadata": {},
   "outputs": [],
   "source": []
  },
  {
   "cell_type": "code",
   "execution_count": 5,
   "id": "0393dd45",
   "metadata": {},
   "outputs": [
    {
     "name": "stdout",
     "output_type": "stream",
     "text": [
      "Digite um número inteiro: 15\n",
      "Digite um número inteiro: 15\n",
      "Digite um número inteiro: 0\n",
      "A soma de todos o números digitados é 30\n"
     ]
    }
   ],
   "source": [
    "#exercicio\n",
    "\n",
    "soma = 0\n",
    "\n",
    "while True:\n",
    "\n",
    "    n = int(input(\"Digite um número inteiro ou 0 para sair: \"))\n",
    "    soma = n + soma\n",
    "\n",
    "    if n == 0:\n",
    "        print(f\"A soma de todos o números digitados é {soma}\")\n",
    "        break\n",
    "    "
   ]
  },
  {
   "cell_type": "code",
   "execution_count": 7,
   "id": "fd6d4791",
   "metadata": {},
   "outputs": [
    {
     "name": "stdout",
     "output_type": "stream",
     "text": [
      "Digite um número ou 0 para sair: 0\n",
      "Total:  0\n"
     ]
    }
   ],
   "source": [
    "soma = 0\n",
    "\n",
    "n = int(input(\"Digite um número ou 0 para sair: \"))\n",
    "\n",
    "while n != 0:\n",
    "    soma += n\n",
    "    n = int(input(\"Digite um número ou 0 para sair: \"))\n",
    "    \n",
    "print(\"Total: \", soma)"
   ]
  },
  {
   "cell_type": "code",
   "execution_count": null,
   "id": "b6efd2e4",
   "metadata": {},
   "outputs": [],
   "source": []
  },
  {
   "cell_type": "code",
   "execution_count": 13,
   "id": "dae0551c",
   "metadata": {},
   "outputs": [
    {
     "name": "stdout",
     "output_type": "stream",
     "text": [
      "Digite um número inteiro ou '-1' para sair: 1\n",
      "Digite um número inteiro ou '-1' para sair: 2\n",
      "Digite um número inteiro ou '-1' para sair: 3\n",
      "Digite um número inteiro ou '-1' para sair: -1\n",
      "O maior número digitado foi 3\n"
     ]
    }
   ],
   "source": [
    "#exercicio\n",
    "\n",
    "maior = -1\n",
    "\n",
    "while True:\n",
    "\n",
    "    n = int(input(\"Digite um número inteiro ou '-1' para sair: \"))\n",
    "    \n",
    "    if n > maior:\n",
    "        maior = n\n",
    "\n",
    "    if n == -1:\n",
    "        print(f\"O maior número digitado foi {maior}\")\n",
    "        break\n",
    "    "
   ]
  },
  {
   "cell_type": "code",
   "execution_count": null,
   "id": "6ad27fd8",
   "metadata": {},
   "outputs": [],
   "source": []
  }
 ],
 "metadata": {
  "kernelspec": {
   "display_name": "Python 3 (ipykernel)",
   "language": "python",
   "name": "python3"
  },
  "language_info": {
   "codemirror_mode": {
    "name": "ipython",
    "version": 3
   },
   "file_extension": ".py",
   "mimetype": "text/x-python",
   "name": "python",
   "nbconvert_exporter": "python",
   "pygments_lexer": "ipython3",
   "version": "3.11.5"
  }
 },
 "nbformat": 4,
 "nbformat_minor": 5
}
