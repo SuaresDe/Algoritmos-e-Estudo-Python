{
 "cells": [
  {
   "cell_type": "code",
   "execution_count": 1,
   "id": "c18a353c",
   "metadata": {},
   "outputs": [
    {
     "name": "stdout",
     "output_type": "stream",
     "text": [
      "1\n",
      "2\n",
      "3\n",
      "4\n",
      "5\n",
      "6\n",
      "7\n",
      "8\n",
      "9\n",
      "10\n"
     ]
    }
   ],
   "source": [
    "for i in range (1, 11):\n",
    "    print(i)"
   ]
  },
  {
   "cell_type": "code",
   "execution_count": 2,
   "id": "95b187df",
   "metadata": {},
   "outputs": [],
   "source": [
    "#incremento/decremento automatico"
   ]
  },
  {
   "cell_type": "code",
   "execution_count": 11,
   "id": "d27b7013",
   "metadata": {},
   "outputs": [
    {
     "name": "stdout",
     "output_type": "stream",
     "text": [
      "10\n",
      "9\n",
      "8\n",
      "7\n",
      "6\n",
      "5\n",
      "4\n",
      "3\n",
      "2\n",
      "1\n"
     ]
    }
   ],
   "source": [
    "for i in range(10, 0, -1):\n",
    "    print(i)"
   ]
  },
  {
   "cell_type": "code",
   "execution_count": null,
   "id": "2fce609f",
   "metadata": {},
   "outputs": [],
   "source": []
  },
  {
   "cell_type": "code",
   "execution_count": 13,
   "id": "559d7c46",
   "metadata": {},
   "outputs": [
    {
     "name": "stdout",
     "output_type": "stream",
     "text": [
      "2\n",
      "4\n",
      "6\n",
      "8\n",
      "10\n"
     ]
    }
   ],
   "source": [
    "for i in range (2, 12, 2):\n",
    "    print(i)"
   ]
  },
  {
   "cell_type": "code",
   "execution_count": 19,
   "id": "a16342e5",
   "metadata": {},
   "outputs": [
    {
     "name": "stdout",
     "output_type": "stream",
     "text": [
      "Numero impar atual: 1\n",
      "Numero impar atual: 3\n",
      "Numero impar atual: 5\n",
      "Numero impar atual: 7\n",
      "Numero impar atual: 9\n",
      "\n",
      "A soma dos números impares de 1 a 10 é: 25\n"
     ]
    }
   ],
   "source": [
    "soma = 0\n",
    "\n",
    "for i in range(1, 11, 2):\n",
    "    print(f\"Numero impar atual: {i}\")\n",
    "    soma += i\n",
    "    \n",
    "print(f\"\\nA soma dos números impares de 1 a 10 é: {soma}\")"
   ]
  },
  {
   "cell_type": "code",
   "execution_count": null,
   "id": "fa0ca4c2",
   "metadata": {},
   "outputs": [],
   "source": []
  },
  {
   "cell_type": "code",
   "execution_count": 24,
   "id": "914a46f1",
   "metadata": {},
   "outputs": [
    {
     "name": "stdout",
     "output_type": "stream",
     "text": [
      "Multiplicando por 1, o resultado parcial é 1\n",
      "Multiplicando por 2, o resultado parcial é 2\n",
      "Multiplicando por 3, o resultado parcial é 6\n",
      "Multiplicando por 4, o resultado parcial é 24\n",
      "Multiplicando por 5, o resultado parcial é 120\n",
      "O resultado final da multiplicação 1 a 5 é: 120\n"
     ]
    }
   ],
   "source": [
    "#exercicio\n",
    "\n",
    "resultado = 1\n",
    "for i in range (1, 6):\n",
    "    resultado *= i\n",
    "    print(f\"Multiplicando por {i}, o resultado parcial é {resultado}\")\n",
    "    \n",
    "print(f\"O resultado final da multiplicação 1 a 5 é: {resultado}\")"
   ]
  },
  {
   "cell_type": "code",
   "execution_count": null,
   "id": "6c8fcaae",
   "metadata": {},
   "outputs": [],
   "source": []
  },
  {
   "cell_type": "code",
   "execution_count": 37,
   "id": "1223d806",
   "metadata": {
    "scrolled": true
   },
   "outputs": [
    {
     "name": "stdout",
     "output_type": "stream",
     "text": [
      "Digite um valor inteiro: 30\n",
      "Número: 0 + 0 = 0\n",
      "Número: 2 + 0 = 2\n",
      "Número: 4 + 2 = 6\n",
      "Número: 6 + 6 = 12\n",
      "Número: 8 + 12 = 20\n",
      "Número: 10 + 20 = 30\n",
      "Número: 12 + 30 = 42\n",
      "Número: 14 + 42 = 56\n",
      "Número: 16 + 56 = 72\n",
      "Número: 18 + 72 = 90\n",
      "Número: 20 + 90 = 110\n",
      "Número: 22 + 110 = 132\n",
      "Número: 24 + 132 = 156\n",
      "Número: 26 + 156 = 182\n",
      "Número: 28 + 182 = 210\n",
      "Número: 30 + 210 = 240\n",
      "A soma dos números pares de 1 a 30 é: 240\n"
     ]
    }
   ],
   "source": [
    "#exercicio\n",
    "\n",
    "somaPares = 0\n",
    "\n",
    "n = int(input(\"Digite um valor inteiro: \"))\n",
    "for i in range (0, n+1, 2):\n",
    "    if i % 2 ==0:\n",
    "        print(f\"Número: {i} + {somaPares} = {i+somaPares}\")\n",
    "    \n",
    "        somaPares += i \n",
    "    \n",
    "print(f\"A soma dos números pares de 1 a {n} é: {somaPares}\")"
   ]
  },
  {
   "cell_type": "code",
   "execution_count": null,
   "id": "24050471",
   "metadata": {},
   "outputs": [],
   "source": []
  },
  {
   "cell_type": "code",
   "execution_count": 40,
   "id": "a401fab1",
   "metadata": {},
   "outputs": [
    {
     "name": "stdout",
     "output_type": "stream",
     "text": [
      "Digite um número inteiro para exibir sua tabuada: 10\n",
      "10 x 1 = 10\n",
      "10 x 2 = 20\n",
      "10 x 3 = 30\n",
      "10 x 4 = 40\n",
      "10 x 5 = 50\n",
      "10 x 6 = 60\n",
      "10 x 7 = 70\n",
      "10 x 8 = 80\n",
      "10 x 9 = 90\n",
      "10 x 10 = 100\n",
      "Fim da tabela de multiplicação!\n"
     ]
    }
   ],
   "source": [
    "#exercicio\n",
    "\n",
    "n = int(input(\"Digite um número inteiro para exibir sua tabuada: \"))\n",
    "\n",
    "for i in range(1, 11):\n",
    "    resultado = n * i\n",
    "    print(f\"{n} x {i} = {resultado}\")\n",
    "    \n",
    "print(\"Fim da tabela de multiplicação!\")\n",
    "    "
   ]
  },
  {
   "cell_type": "code",
   "execution_count": null,
   "id": "6545ea10",
   "metadata": {},
   "outputs": [],
   "source": []
  },
  {
   "cell_type": "code",
   "execution_count": 41,
   "id": "5d53e63a",
   "metadata": {},
   "outputs": [
    {
     "name": "stdout",
     "output_type": "stream",
     "text": [
      "Digite um número inteiro: 5\n",
      "Quadrado de 1: 1\n",
      "Quadrado de 2: 4\n",
      "Quadrado de 3: 9\n",
      "Quadrado de 4: 16\n",
      "Quadrado de 5: 25\n",
      "A soma dos quadrados dos números de 1 até 5 é: 55\n"
     ]
    }
   ],
   "source": [
    "#exercicio\n",
    "\n",
    "somaQ = 0\n",
    "\n",
    "n = int(input(\"Digite um número inteiro: \"))\n",
    "for i in range(1, n+1):\n",
    "    \n",
    "    quadrado = i**2\n",
    "    print(f\"Quadrado de {i}: {quadrado}\")\n",
    "    somaQ += quadrado\n",
    "    \n",
    "print(f\"A soma dos quadrados dos números de 1 até {n} é: {somaQ}\")"
   ]
  },
  {
   "cell_type": "code",
   "execution_count": null,
   "id": "d14938d0",
   "metadata": {},
   "outputs": [],
   "source": []
  },
  {
   "cell_type": "code",
   "execution_count": 44,
   "id": "a9ecdbf4",
   "metadata": {},
   "outputs": [
    {
     "name": "stdout",
     "output_type": "stream",
     "text": [
      "A\n",
      "B\n",
      "C\n"
     ]
    }
   ],
   "source": [
    "lista = [\"A\", \"B\", \"C\", \"D\", \"E\"]\n",
    "\n",
    "for item in lista:\n",
    "    \n",
    "    print(item)\n",
    "    \n",
    "    if item == \"C\":\n",
    "        \n",
    "        break"
   ]
  },
  {
   "cell_type": "code",
   "execution_count": null,
   "id": "7330c56e",
   "metadata": {},
   "outputs": [],
   "source": []
  },
  {
   "cell_type": "code",
   "execution_count": 48,
   "id": "43d189a6",
   "metadata": {},
   "outputs": [
    {
     "name": "stdout",
     "output_type": "stream",
     "text": [
      "maça\n",
      "banana\n",
      "pitaya\n",
      "uva\n"
     ]
    }
   ],
   "source": [
    "frutas = [\"maça\", \"banana\", \"pitaya\", \"uva\"]\n",
    "\n",
    "for fruta in frutas:\n",
    "    \n",
    "    print(fruta)"
   ]
  },
  {
   "cell_type": "code",
   "execution_count": null,
   "id": "5e7ba474",
   "metadata": {},
   "outputs": [],
   "source": []
  },
  {
   "cell_type": "code",
   "execution_count": 50,
   "id": "a83e737b",
   "metadata": {},
   "outputs": [
    {
     "name": "stdout",
     "output_type": "stream",
     "text": [
      "Digite um número: 5\n",
      "1\n",
      "2\n",
      "3\n",
      "4\n",
      "5\n"
     ]
    }
   ],
   "source": [
    "numero = int(input(\"Digite um número: \"))\n",
    "\n",
    "for i in range(1, numero+1):\n",
    "    print(i)"
   ]
  },
  {
   "cell_type": "code",
   "execution_count": null,
   "id": "6467bc72",
   "metadata": {},
   "outputs": [],
   "source": []
  },
  {
   "cell_type": "code",
   "execution_count": 52,
   "id": "74919944",
   "metadata": {},
   "outputs": [
    {
     "name": "stdout",
     "output_type": "stream",
     "text": [
      "1 é impar\n",
      "2 é par\n",
      "3 é impar\n",
      "4 é par\n",
      "5 é impar\n",
      "6 é par\n",
      "7 é impar\n",
      "8 é par\n",
      "9 é impar\n",
      "10 é par\n"
     ]
    }
   ],
   "source": [
    "#exercicio\n",
    "\n",
    "numeros = [1, 2, 3, 4, 5, 6, 7, 8 , 9, 10]\n",
    "\n",
    "for numero in numeros:\n",
    "    if numero % 2 == 0:\n",
    "        \n",
    "        print(numero, \"é par\")\n",
    "        \n",
    "    else:\n",
    "        \n",
    "        print(numero, \"é impar\")"
   ]
  },
  {
   "cell_type": "code",
   "execution_count": null,
   "id": "8f91a0e0",
   "metadata": {},
   "outputs": [],
   "source": []
  },
  {
   "cell_type": "code",
   "execution_count": 56,
   "id": "7bbac107",
   "metadata": {},
   "outputs": [
    {
     "name": "stdout",
     "output_type": "stream",
     "text": [
      "Eu preciso comprar biscoito\n",
      "Eu preciso comprar refrigerante\n",
      "Eu preciso comprar arroz\n",
      "Eu preciso comprar feijão\n"
     ]
    }
   ],
   "source": [
    "itens_compra = [\"biscoito\", \"refrigerante\", \"arroz\", \"feijão\"]\n",
    "\n",
    "for itens in itens_compra:\n",
    "    print(\"Eu preciso comprar\", itens)"
   ]
  },
  {
   "cell_type": "code",
   "execution_count": null,
   "id": "99210597",
   "metadata": {},
   "outputs": [],
   "source": []
  },
  {
   "cell_type": "code",
   "execution_count": 59,
   "id": "bc3459e6",
   "metadata": {},
   "outputs": [
    {
     "name": "stdout",
     "output_type": "stream",
     "text": [
      "*****\n",
      "****\n",
      "***\n",
      "**\n",
      "*\n"
     ]
    }
   ],
   "source": [
    "#exercicio\n",
    "\n",
    "for i in range(5, 0, -1):\n",
    "\n",
    "    print('*' * i)"
   ]
  },
  {
   "cell_type": "code",
   "execution_count": null,
   "id": "9da7d019",
   "metadata": {},
   "outputs": [],
   "source": []
  },
  {
   "cell_type": "code",
   "execution_count": 31,
   "id": "64092418",
   "metadata": {},
   "outputs": [
    {
     "name": "stdout",
     "output_type": "stream",
     "text": [
      "* * * * * \n",
      "* * * * * \n",
      "* * * * * \n"
     ]
    }
   ],
   "source": [
    "largura = 5\n",
    "altura = 3\n",
    "\n",
    "for i in range(altura):\n",
    "    \n",
    "    for j in range(largura):\n",
    "        \n",
    "        print(\"*\", end=\" \")\n",
    "        \n",
    "    print()\n",
    "        \n",
    "        "
   ]
  },
  {
   "cell_type": "code",
   "execution_count": null,
   "id": "e2fe4902",
   "metadata": {},
   "outputs": [],
   "source": []
  },
  {
   "cell_type": "code",
   "execution_count": 32,
   "id": "cb018b37",
   "metadata": {},
   "outputs": [
    {
     "name": "stdout",
     "output_type": "stream",
     "text": [
      "    *\n",
      "   ***\n",
      "  *****\n",
      " *******\n",
      "*********\n"
     ]
    }
   ],
   "source": [
    "altura = 5\n",
    "\n",
    "for i in range(altura):\n",
    "    \n",
    "    espacos = altura - i - 1\n",
    "    asteriscos = 2 * i + 1\n",
    "    print(\" \" * espacos + \"*\" * asteriscos)"
   ]
  },
  {
   "cell_type": "code",
   "execution_count": null,
   "id": "9919cfdc",
   "metadata": {},
   "outputs": [],
   "source": []
  },
  {
   "cell_type": "code",
   "execution_count": 6,
   "id": "e832c99f",
   "metadata": {},
   "outputs": [
    {
     "name": "stdout",
     "output_type": "stream",
     "text": [
      "Palavras com mais de 4 letras da lista: \n",
      "carro\n",
      "árvore\n"
     ]
    }
   ],
   "source": [
    "palavras = [\"casa\",\"carro\",\"sol\",\"árvore\"]\n",
    "\n",
    "print(\"Palavras com mais de 4 letras da lista: \")\n",
    "for palavra in palavras:\n",
    "    \n",
    "    if len(palavra) > 4:\n",
    "        print(palavra)"
   ]
  },
  {
   "cell_type": "code",
   "execution_count": null,
   "id": "0aa44488",
   "metadata": {},
   "outputs": [],
   "source": []
  },
  {
   "cell_type": "code",
   "execution_count": 8,
   "id": "dbd10e10",
   "metadata": {},
   "outputs": [
    {
     "name": "stdout",
     "output_type": "stream",
     "text": [
      "1 * 1 = 1\n",
      "1 * 2 = 2\n",
      "1 * 3 = 3\n",
      "2 * 1 = 2\n",
      "2 * 2 = 4\n",
      "2 * 3 = 6\n",
      "3 * 1 = 3\n",
      "3 * 2 = 6\n",
      "3 * 3 = 9\n"
     ]
    }
   ],
   "source": [
    "#For Nested Loops - Loops for dentro do outro \n",
    "\n",
    "for i in range(1, 4): #linha\n",
    "    for j in range(1, 4): #coluna\n",
    "        \n",
    "        print(i,\"*\", j, \"=\", i * j)"
   ]
  },
  {
   "cell_type": "code",
   "execution_count": null,
   "id": "d24c8f5f",
   "metadata": {},
   "outputs": [],
   "source": []
  },
  {
   "cell_type": "code",
   "execution_count": 10,
   "id": "57e9b64c",
   "metadata": {},
   "outputs": [
    {
     "name": "stdout",
     "output_type": "stream",
     "text": [
      "[1, 9, 25, 49, 81]\n"
     ]
    }
   ],
   "source": [
    "quadrados_impares = [x**2 for x in range(10) if x % 2 != 0]\n",
    "print(quadrados_impares)\n",
    " #1 x 1 = 1, 3 x 3 = 9, 5 x 5 = 25, 7 x 7 = 49 e 9 x 9 = 81."
   ]
  },
  {
   "cell_type": "code",
   "execution_count": null,
   "id": "d822d55f",
   "metadata": {},
   "outputs": [],
   "source": []
  },
  {
   "cell_type": "code",
   "execution_count": 15,
   "id": "6bda72f7",
   "metadata": {},
   "outputs": [
    {
     "name": "stdout",
     "output_type": "stream",
     "text": [
      "['H', 'l', 'l', 'W', 'r', 'l', 'd']\n"
     ]
    }
   ],
   "source": [
    "#pula vogais\n",
    "texto = \"Hello World\"\n",
    "consoantes = [char for char in texto if char.lower() not in 'aeiou ']\n",
    "print(consoantes)"
   ]
  },
  {
   "cell_type": "code",
   "execution_count": 16,
   "id": "f253fa86",
   "metadata": {},
   "outputs": [
    {
     "name": "stdout",
     "output_type": "stream",
     "text": [
      "['H', 'l', 'l', 'W', 'r', 'l', 'd']\n"
     ]
    }
   ],
   "source": [
    "texto = \"Hello World\"\n",
    "\n",
    "consoantes = []\n",
    "\n",
    "consoantes_exemplo2 = []\n",
    "\n",
    "for letra in texto:\n",
    "    if letra.lower() not in 'aeiou ':\n",
    "        consoantes_exemplo2.append(letra)\n",
    "        \n",
    "print(consoantes_exemplo2)"
   ]
  },
  {
   "cell_type": "code",
   "execution_count": null,
   "id": "c034f25c",
   "metadata": {},
   "outputs": [],
   "source": []
  },
  {
   "cell_type": "code",
   "execution_count": 29,
   "id": "42093c64",
   "metadata": {},
   "outputs": [
    {
     "name": "stdout",
     "output_type": "stream",
     "text": [
      "Digite um número inteiro: 4\n",
      "1! = 1 \n",
      "2! = 1 * 2 \n",
      "3! = 1 * 2 * 3 \n",
      "4! = 1 * 2 * 3 * 4 \n",
      "O fatorial de 4 é: 24\n"
     ]
    }
   ],
   "source": [
    "n = int(input(\"Digite um número inteiro: \"))\n",
    "\n",
    "if n < 0:\n",
    "    print(\"Valor inválido!\")\n",
    "else:\n",
    "    fatorial = 1\n",
    "    for multiplicador in range(1, n + 1):\n",
    "        fatorial *= multiplicador\n",
    "        print(f\"{multiplicador}! =\", end=\" \")\n",
    "        for i in range(1, multiplicador + 1):\n",
    "            print(i, end=\" \")\n",
    "            if i != multiplicador:\n",
    "                print(\"*\", end=\" \")\n",
    "        print()\n",
    "    print(f\"O fatorial de {n} é: {fatorial}\")\n"
   ]
  },
  {
   "cell_type": "code",
   "execution_count": null,
   "id": "d7c4c005",
   "metadata": {},
   "outputs": [],
   "source": []
  }
 ],
 "metadata": {
  "kernelspec": {
   "display_name": "Python 3 (ipykernel)",
   "language": "python",
   "name": "python3"
  },
  "language_info": {
   "codemirror_mode": {
    "name": "ipython",
    "version": 3
   },
   "file_extension": ".py",
   "mimetype": "text/x-python",
   "name": "python",
   "nbconvert_exporter": "python",
   "pygments_lexer": "ipython3",
   "version": "3.11.5"
  }
 },
 "nbformat": 4,
 "nbformat_minor": 5
}
