{
 "cells": [
  {
   "cell_type": "code",
   "execution_count": 1,
   "id": "be024ddf",
   "metadata": {},
   "outputs": [
    {
     "name": "stdout",
     "output_type": "stream",
     "text": [
      "ola mundo\n"
     ]
    }
   ],
   "source": [
    "print(\"ola mundo\")"
   ]
  },
  {
   "cell_type": "code",
   "execution_count": 66,
   "id": "27e1b7e8",
   "metadata": {},
   "outputs": [
    {
     "name": "stdout",
     "output_type": "stream",
     "text": [
      "inteiro: 42\n",
      "float: 42.0\n",
      "complexo: (3+4j)\n",
      "ola mundo!\n",
      "lista: [1, 2, 3]\n",
      "tupla: (1, 2, 3, 4, 5)\n",
      "conjunto: {1, 2, 3}\n",
      "dicionario: {'chave': 'valor'}\n",
      "Booleano: True\n",
      "NoneType (None): None\n"
     ]
    }
   ],
   "source": [
    "inteiro = 42\n",
    "print(\"inteiro:\",inteiro)\n",
    "\n",
    "floatT = 42.0\n",
    "print(\"float:\",floatT)\n",
    "\n",
    "complexo = 3 + 4j\n",
    "print(\"complexo:\", complexo)\n",
    "\n",
    "string = \"ola mundo!\"\n",
    "print(string)\n",
    "\n",
    "lista = [1, 2, 3]\n",
    "print(\"lista:\", lista)\n",
    "#mutavel\n",
    "\n",
    "tupla = (1, 2, 3, 4, 5)\n",
    "print(\"tupla:\", tupla)\n",
    "#imutavel\n",
    "\n",
    "conjunto = {1, 2, 3}\n",
    "print(\"conjunto:\", conjunto)\n",
    "#itens unicos\n",
    "\n",
    "dicionario = {\"chave\": \"valor\"}\n",
    "print(\"dicionario:\", dicionario)\n",
    "\n",
    "booleano = True\n",
    "print(\"Booleano:\", booleano)\n",
    "\n",
    "nenhum = None\n",
    "print(\"NoneType (None):\", nenhum)\n"
   ]
  },
  {
   "cell_type": "code",
   "execution_count": 67,
   "id": "0145a62e",
   "metadata": {},
   "outputs": [
    {
     "name": "stdout",
     "output_type": "stream",
     "text": [
      "Nome: Suares\n",
      "idade: 20\n",
      " \n",
      "Nome: Suares , idade: 20\n"
     ]
    }
   ],
   "source": [
    "#varivaeis\n",
    "\n",
    "idade = 20\n",
    "nome = \"Suares\"\n",
    "\n",
    "print(\"Nome:\", nome)\n",
    "print(\"idade:\", idade)\n",
    "print(\" \")\n",
    "print(\"Nome:\", nome,\",\",\"idade:\", idade)"
   ]
  },
  {
   "cell_type": "code",
   "execution_count": 68,
   "id": "8be4d7d7",
   "metadata": {},
   "outputs": [
    {
     "name": "stdout",
     "output_type": "stream",
     "text": [
      "<class 'str'>\n",
      "<class 'int'>\n",
      "<class 'float'>\n"
     ]
    }
   ],
   "source": [
    "nome = str(\"Manu\")\n",
    "idade = int(18)\n",
    "temperatura = 3.0\n",
    "\n",
    "\n",
    "print(type(nome))\n",
    "print(type(idade))\n",
    "print(type(temperatura))\n",
    "\n",
    "\n"
   ]
  },
  {
   "cell_type": "code",
   "execution_count": 69,
   "id": "9fd0c23d",
   "metadata": {},
   "outputs": [
    {
     "name": "stdout",
     "output_type": "stream",
     "text": [
      "30\n",
      "Su\n"
     ]
    }
   ],
   "source": [
    "i = 30\n",
    "I = \"Su\"\n",
    "\n",
    "print(i)\n",
    "print(I)"
   ]
  },
  {
   "cell_type": "code",
   "execution_count": 70,
   "id": "7caf4720",
   "metadata": {},
   "outputs": [
    {
     "name": "stdout",
     "output_type": "stream",
     "text": [
      "TEXTO 3\n",
      "TEXTO 2\n"
     ]
    }
   ],
   "source": [
    "\n",
    "var1, var2, var3, var4 = \"TEXTO 1\", \"TEXTO 2\", \"TEXTO 3\", \"TEXTO 4\"\n",
    "\n",
    "print(var3)\n",
    "print(var2)"
   ]
  },
  {
   "cell_type": "code",
   "execution_count": 71,
   "id": "c6aad6b5",
   "metadata": {},
   "outputs": [
    {
     "name": "stdout",
     "output_type": "stream",
     "text": [
      "Hello World!\n",
      "Hello World!\n"
     ]
    }
   ],
   "source": [
    "var1 = var2 = var3 = var4 = \"Hello World!\"\n",
    "\n",
    "print(var3)\n",
    "print(var2)"
   ]
  },
  {
   "cell_type": "code",
   "execution_count": 72,
   "id": "6337f76d",
   "metadata": {},
   "outputs": [
    {
     "name": "stdout",
     "output_type": "stream",
     "text": [
      "O meu nome eh suares e tenho 20anos\n"
     ]
    }
   ],
   "source": [
    "nome = \"suares\"\n",
    "idade = \"20\"\n",
    "anos = \"anos\"\n",
    "\n",
    "print(\"O meu nome eh\", nome, \"e tenho \" + idade + \"anos\")"
   ]
  },
  {
   "cell_type": "code",
   "execution_count": 73,
   "id": "f438f375",
   "metadata": {},
   "outputs": [
    {
     "name": "stdout",
     "output_type": "stream",
     "text": [
      "tudoJunto\n"
     ]
    }
   ],
   "source": [
    "num1 = \"tudo\"\n",
    "num2 = \"Junto\"\n",
    "\n",
    "print(num1 + num2)"
   ]
  },
  {
   "cell_type": "code",
   "execution_count": 74,
   "id": "68635605",
   "metadata": {},
   "outputs": [
    {
     "name": "stdout",
     "output_type": "stream",
     "text": [
      "Soma: 125.5\n"
     ]
    }
   ],
   "source": [
    "#exercicio 1\n",
    "idade = 25\n",
    "nome = \"Joao\"\n",
    "saldo = 100.50\n",
    "soma = idade + saldo\n",
    "\n",
    "print(\"Soma:\", soma)"
   ]
  },
  {
   "cell_type": "code",
   "execution_count": 75,
   "id": "b4c0cd3d",
   "metadata": {},
   "outputs": [
    {
     "name": "stdout",
     "output_type": "stream",
     "text": [
      "media: 7.57\n"
     ]
    }
   ],
   "source": [
    "nota1 = 7.5\n",
    "nota2 = 8.3\n",
    "nota3 = 6.9\n",
    "media = (nota1 + nota2 + nota3) / 3\n",
    "print(\"media:\", format(media, \".2f\"))"
   ]
  },
  {
   "cell_type": "code",
   "execution_count": 76,
   "id": "54a0c933",
   "metadata": {},
   "outputs": [
    {
     "name": "stdout",
     "output_type": "stream",
     "text": [
      "Digite seu nome: \n",
      "Suares\n",
      "\n",
      "O seu nome eh: Suares\n"
     ]
    }
   ],
   "source": [
    "nome1 = input(\"Digite seu nome: \\n\")\n",
    "\n",
    "print(\"\\nO seu nome eh:\", nome)"
   ]
  },
  {
   "cell_type": "code",
   "execution_count": 1,
   "id": "18f494d6",
   "metadata": {},
   "outputs": [
    {
     "name": "stdout",
     "output_type": "stream",
     "text": [
      "Digite seu nome: \n",
      "Suares\n",
      "Digite a nota 1: 10\n",
      "Digite a nota 2: 8\n",
      "Aluno: Suares \n",
      "Media: 9.0\n"
     ]
    }
   ],
   "source": [
    "nome = input(\"Digite seu nome: \\n\")\n",
    "nota1 = float(input(\"Digite a nota 1: \"))\n",
    "nota2 = float(input(\"Digite a nota 2: \"))\n",
    "\n",
    "media = (nota1 + nota2) / 2\n",
    "\n",
    "print(\"Aluno:\", nome, \"\\nMedia:\", media)"
   ]
  },
  {
   "cell_type": "code",
   "execution_count": 128,
   "id": "4e0b5190",
   "metadata": {},
   "outputs": [
    {
     "name": "stdout",
     "output_type": "stream",
     "text": [
      "A tabuada de qual numero deseja ver? 95000\n",
      "95000  * 1 =  95000\n",
      "95000  * 1 =  190000\n",
      "95000  * 1 =  285000\n",
      "95000  * 1 =  380000\n",
      "95000  * 1 =  475000\n",
      "95000  * 1 =  570000\n",
      "95000  * 1 =  665000\n",
      "95000  * 1 =  760000\n",
      "95000  * 1 =  855000\n",
      "95000  * 1 =  950000\n"
     ]
    }
   ],
   "source": [
    "n = int(input(\"A tabuada de qual numero deseja ver? \"))\n",
    "\n",
    "print(n, \" * 1 = \", n * 1)\n",
    "print(n, \" * 1 = \", n * 2)\n",
    "print(n, \" * 1 = \", n * 3)\n",
    "print(n, \" * 1 = \", n * 4)\n",
    "print(n, \" * 1 = \", n * 5)\n",
    "print(n, \" * 1 = \", n * 6)\n",
    "print(n, \" * 1 = \", n * 7)\n",
    "print(n, \" * 1 = \", n * 8)\n",
    "print(n, \" * 1 = \", n * 9)\n",
    "print(n, \" * 1 = \", n * 10)"
   ]
  },
  {
   "cell_type": "code",
   "execution_count": 11,
   "id": "440e20d8",
   "metadata": {},
   "outputs": [
    {
     "name": "stdout",
     "output_type": "stream",
     "text": [
      "Em que ano voce nasceu? 2000\n",
      "Voce tem 23 anos\n"
     ]
    }
   ],
   "source": [
    "ano_atual = 2023\n",
    "ano_nascimento = int(input(\"Em que ano voce nasceu? \"))\n",
    "                  \n",
    "idade = ano_atual - ano_nascimento\n",
    "\n",
    "print(\"Voce tem\", idade,\"anos\")\n",
    "                           "
   ]
  },
  {
   "cell_type": "code",
   "execution_count": 106,
   "id": "40def95b",
   "metadata": {},
   "outputs": [
    {
     "name": "stdout",
     "output_type": "stream",
     "text": [
      "numero aleatorio entre x e y:\n",
      "95\n",
      "\n",
      "numero aleatorio tipo float\n",
      "0.631441391048821\n",
      "\n",
      "numero aleatorio entre x e y, inclusive x e y:\n",
      "55\n",
      "\n",
      "escolhe um aleatorio\n",
      "banana\n",
      "\n",
      "embaralha string\n",
      "[1, 4, 3, 5, 2]\n",
      "\n",
      "numero float entre x,x2 e y,y2\n",
      "1.6047740341452719\n"
     ]
    }
   ],
   "source": [
    "import random\n",
    "\n",
    "print(\"numero aleatorio entre x e y:\")\n",
    "print(random.randrange(1,100))\n",
    "\n",
    "print()\n",
    "\n",
    "print(\"numero aleatorio tipo float\")\n",
    "print(random.random())\n",
    "\n",
    "\n",
    "print()\n",
    "\n",
    "print(\"numero aleatorio entre x e y, inclusive x e y:\")\n",
    "print(random.randint(1, 100))\n",
    "\n",
    "print()\n",
    "\n",
    "print(\"escolhe um aleatorio\")\n",
    "frutas = [\"maca\", \"banana\", \"lichia\"]\n",
    "print(random.choice(frutas))\n",
    "\n",
    "print()\n",
    "\n",
    "print(\"embaralha string\")\n",
    "numeros = [1, 2, 3, 4, 5]\n",
    "random.shuffle(numeros)\n",
    "print(numeros)\n",
    "\n",
    "print()\n",
    "\n",
    "print(\"numero float entre x,x2 e y,y2\")\n",
    "print(random.uniform(1.0, 5.0))"
   ]
  },
  {
   "cell_type": "code",
   "execution_count": 113,
   "id": "accd32ff",
   "metadata": {},
   "outputs": [
    {
     "name": "stdout",
     "output_type": "stream",
     "text": [
      "P\n",
      "y\n",
      "t\n",
      "h\n",
      "o\n",
      "n\n"
     ]
    }
   ],
   "source": [
    "#imprimindo string com numero da caixa string\n",
    "posicaoLetra = \"Python\"\n",
    "print(posicaoLetra[0])\n",
    "print(posicaoLetra[1])\n",
    "print(posicaoLetra[2])\n",
    "print(posicaoLetra[3])\n",
    "print(posicaoLetra[4])\n",
    "print(posicaoLetra[5])\n"
   ]
  },
  {
   "cell_type": "code",
   "execution_count": 1,
   "id": "a5c61949",
   "metadata": {},
   "outputs": [
    {
     "name": "stdout",
     "output_type": "stream",
     "text": [
      "hell\n",
      "or\n",
      "hello\n",
      "world!\n"
     ]
    }
   ],
   "source": [
    "#slice\n",
    "frase = \"hello world!\"\n",
    "\n",
    "parte = frase[0:4]\n",
    "print(parte)\n",
    "\n",
    "segundaParte = frase[7:9]\n",
    "print(segundaParte)\n",
    "\n",
    "primeira = frase[:5]\n",
    "print(primeira)\n",
    "\n",
    "segunda = frase[-6:]\n",
    "print(segunda)"
   ]
  },
  {
   "cell_type": "code",
   "execution_count": null,
   "id": "ac8205a6",
   "metadata": {},
   "outputs": [],
   "source": []
  },
  {
   "cell_type": "code",
   "execution_count": null,
   "id": "091e8969",
   "metadata": {},
   "outputs": [],
   "source": [
    "frase = \"O homem é, por natureza, um animal político.\"\n",
    "\n",
    "print(\"animal\" in frase)\n",
    "\n",
    "frase = \"O homem é, por natureza, um animal político.\"\n",
    "\n",
    "print(\"python\" in frase)\n",
    "\n",
    "frase = \"O homem é, por natureza, um animal político.\"\n",
    "\n",
    "if \"animal\" in frase:\n",
    "    print(\"Sim, a palavra 'animal' está presente na frase.\")\n",
    "\n",
    "\n",
    "\n",
    "frase = \"                       O homem é, por natureza, um animal político.\"\n",
    "\n",
    "print(frase.strip())\n",
    "\n",
    "#.strip usado pra remover espaços em branco\n",
    "\n",
    "\n",
    "\n",
    "frase = \"hi, how you doing?\"\n",
    "palavras = frase.split()\n",
    "\n",
    "#.split() usado para separar as palavras da frase em retornar elas como string\n",
    "\n",
    "print(palavras)\n",
    "\n",
    "palavras = ['hi,', 'how', 'you', 'doing?']\n",
    "frase = ' '.join(palavras)\n",
    "\n",
    "# ' '.join(x) usado para juntar palavras numa frase e retorna elas numa unica string\n",
    "\n",
    "print(frase)\n",
    "\n",
    "\n",
    "\n",
    "texto = \"*******Hello*********\"\n",
    "texto_strip = texto.strip('*')\n",
    "\n",
    "print(texto_strip)\n",
    "\n",
    "texto = \"        World!        \"\n",
    "texto_strip = texto.strip()\n",
    "\n",
    "print(texto_strip)\n",
    "\n",
    "\n",
    "\n",
    "nome = \"Suares\"\n",
    "idade = 20\n",
    "altura = 1.76\n",
    "\n",
    "mensagem = f\"Olá, meu nome é {nome}. Tenho {idade} anos e minha altura é {altura:.2f} metros.\"\n",
    "#As f-strings vão servir para que você consiga colocar uma variável dentro de um texto\n",
    "\n",
    "print(mensagem)\n",
    "\n",
    "\n",
    "\n",
    "texto = \"Hello World!\"\n",
    "\n",
    "texto_upper = texto.upper()\n",
    "#Converte as letras pra maiúsculo\n",
    "print(texto_upper)\n",
    "\n",
    "texto_lower = texto.lower()\n",
    "#Converte as letras pra minúscula\n",
    "print(texto_lower)\n",
    "\n",
    "texto_capitalize = texto.capitalize()\n",
    "#Converte a primeira letra em maiúsculo e resto minúsculo\n",
    "print(texto_capitalize)\n",
    "\n",
    "ocorrencias = texto.count(\"o\")\n",
    "#conta as ocorrencias do parametro\n",
    "print(ocorrencias)\n",
    "\n",
    "texto_substituido = texto.replace(\"World\", \"Friend\")\n",
    "#Substitue uma string por outra\n",
    "print(texto_substituido)\n",
    "\n",
    "\n",
    "\n",
    "#exercicio\n",
    "\n",
    "nome = \"Maria\"\n",
    "sobrenome = \"Silva\"\n",
    "idade = 30\n",
    "\n",
    "nome_completo = nome + \" \" + sobrenome\n",
    "print(nome_completo)\n",
    "\n",
    "mensagem = f\"Meu nome é {nome_completo} e tenho {idade} anos\"\n",
    "#mensagem = \"Meu nome é {} e tenho {} anos\".format(nome_completo, idade)\n",
    "print(mensagem)\n",
    "\n",
    "\n",
    "\n",
    "#exercicio\n",
    "\n",
    "frase = \"Python é uma linguagem de programção poderosa e versátil.\"\n",
    "print(\"Frase: {}\".format(frase))\n",
    "\n",
    "count = frase.count(\"\")\n",
    "print(\"Quantidade de caracteres na frase: {}\".format(count))\n",
    "\n",
    "palavra = frase.split()[0]\n",
    "print(\"Primeira palavra da frase: {}\".format(palavra))\n",
    "\n",
    "frase_upper = frase.upper()\n",
    "print(\"Frase em maiúsculo: {}\".format(frase_upper))\n",
    "\n",
    "frase_substituido = frase.replace(\"poderosa\", \"incrível\")\n",
    "print(\"Frase com a palavra substituida: {}\".format(frase_substituido))\n",
    "\n",
    "\n",
    "\n",
    "\n",
    "#exercicio\n",
    "\n",
    "nome_completo = \"Maria de Freitas Cardoso\"\n",
    "print(nome_completo)\n",
    "\n",
    "nome_completo_upper = nome_completo.upper()\n",
    "print(nome_completo_upper)\n",
    "\n",
    "nome_completo_lower = nome_completo.lower()\n",
    "print(nome_completo_lower)\n",
    "\n",
    "nome_completo_semespaço = nome_completo.replace(\" \", '')\n",
    "print(nome_completo_semespaço)\n",
    "\n",
    "primeira = nome_completo.split()[0]\n",
    "print(primeira)\n",
    "\n",
    "\n"
   ]
  }
 ],
 "metadata": {
  "kernelspec": {
   "display_name": "Python 3 (ipykernel)",
   "language": "python",
   "name": "python3"
  },
  "language_info": {
   "codemirror_mode": {
    "name": "ipython",
    "version": 3
   },
   "file_extension": ".py",
   "mimetype": "text/x-python",
   "name": "python",
   "nbconvert_exporter": "python",
   "pygments_lexer": "ipython3",
   "version": "3.11.5"
  }
 },
 "nbformat": 4,
 "nbformat_minor": 5
}
