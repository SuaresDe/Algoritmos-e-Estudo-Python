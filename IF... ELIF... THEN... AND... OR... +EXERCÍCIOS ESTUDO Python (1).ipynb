{
 "cells": [
  {
   "cell_type": "markdown",
   "id": "07594ed8",
   "metadata": {},
   "source": [
    "# IF... ELIF... THEN... AND... OR... +EXERCÍCIOS"
   ]
  },
  {
   "cell_type": "code",
   "execution_count": 1,
   "id": "11384e26",
   "metadata": {},
   "outputs": [
    {
     "name": "stdout",
     "output_type": "stream",
     "text": [
      "O número da variável 1 é maior que o número da variável 2.\n"
     ]
    }
   ],
   "source": [
    "num1 = 90\n",
    "num2 = 12\n",
    "\n",
    "if num1 > num2:\n",
    "    print(\"O número da variável 1 é maior que o número da variável 2.\")"
   ]
  },
  {
   "cell_type": "markdown",
   "id": "498c4388",
   "metadata": {},
   "source": []
  },
  {
   "cell_type": "code",
   "execution_count": 11,
   "id": "9ec28b2c",
   "metadata": {},
   "outputs": [
    {
     "name": "stdout",
     "output_type": "stream",
     "text": [
      "Os valores são iguais\n"
     ]
    }
   ],
   "source": [
    "num1 = 6\n",
    "num2 = 6\n",
    "\n",
    "if num1 > num2:\n",
    "    print(\"O número da variável 1 é maior que o número da variável 2.\")\n",
    "elif num2 > num1:\n",
    "    print(\"O número da variável 2 é maior que o número da variável 1.\")\n",
    "else:\n",
    "    print(\"Os valores são iguais\")"
   ]
  },
  {
   "cell_type": "markdown",
   "id": "ed1af294",
   "metadata": {},
   "source": []
  },
  {
   "cell_type": "code",
   "execution_count": 1,
   "id": "ab1746e7",
   "metadata": {},
   "outputs": [
    {
     "name": "stdout",
     "output_type": "stream",
     "text": [
      "Você foi desafiado a adivinhar um número entre 1 e 10\n",
      "Digite o numero: 7\n",
      "Você acertou!\n"
     ]
    }
   ],
   "source": [
    "#exercicio\n",
    "\n",
    "print(\"Você foi desafiado a adivinhar um número entre 1 e 10\")\n",
    "\n",
    "secreto = 7\n",
    "\n",
    "x = int(input(\"Digite o numero: \"))\n",
    "\n",
    "if x == secreto:\n",
    "    print(\"Você acertou!\")\n",
    "else:\n",
    "    print(\"Errou!\")"
   ]
  },
  {
   "cell_type": "markdown",
   "id": "df88f88c",
   "metadata": {},
   "source": []
  },
  {
   "cell_type": "code",
   "execution_count": 5,
   "id": "58cd959c",
   "metadata": {},
   "outputs": [
    {
     "name": "stdout",
     "output_type": "stream",
     "text": [
      "Digite sua idade: 20\n",
      "Você é elegivel para votar.\n"
     ]
    }
   ],
   "source": [
    "idade = int(input(\"Digite sua idade: \"))\n",
    "\n",
    "if idade >= 18:\n",
    "    print(\"Você é elegivel para votar.\")\n",
    "else:\n",
    "    print(\"Você não é elegivel para votar.\")"
   ]
  },
  {
   "cell_type": "markdown",
   "id": "a9eb8888",
   "metadata": {},
   "source": []
  },
  {
   "cell_type": "code",
   "execution_count": 7,
   "id": "ec265a8b",
   "metadata": {},
   "outputs": [
    {
     "name": "stdout",
     "output_type": "stream",
     "text": [
      "\n"
     ]
    }
   ],
   "source": [
    "\"\"\"\n",
    ">     Maior que\n",
    "<     Menor que\n",
    "==    Igual a\n",
    "!=    Diferente de\n",
    ">=    Maior ou igual\n",
    "<=    Menor ou igual\n",
    "\n",
    "\"\"\"\n",
    "print()"
   ]
  },
  {
   "cell_type": "markdown",
   "id": "089de0f7",
   "metadata": {},
   "source": []
  },
  {
   "cell_type": "code",
   "execution_count": 8,
   "id": "a1943be1",
   "metadata": {},
   "outputs": [
    {
     "name": "stdout",
     "output_type": "stream",
     "text": [
      "As duas condições são verdadeiras\n"
     ]
    }
   ],
   "source": [
    "num1 = 50\n",
    "num2 = 21\n",
    "num3 = 200\n",
    "\n",
    "if num1 > num2 and num3 > num1:\n",
    "    print(\"As duas condições são verdadeiras\")"
   ]
  },
  {
   "cell_type": "markdown",
   "id": "f4c66f99",
   "metadata": {},
   "source": []
  },
  {
   "cell_type": "code",
   "execution_count": 17,
   "id": "b518e0ed",
   "metadata": {},
   "outputs": [
    {
     "name": "stdout",
     "output_type": "stream",
     "text": [
      "Insira a nota do estudante entre 0 e 100: 0\n",
      "Insuficiente!\n"
     ]
    }
   ],
   "source": [
    "#exercicio\n",
    "\n",
    "nota = int(input(\"Insira a nota do estudante entre 0 e 100: \"))\n",
    "\n",
    "if nota >= 90 and nota <= 100:\n",
    "    print(\"Excelente!\")\n",
    "elif nota >= 70 and nota <= 89:\n",
    "    print(\"Bom!\")\n",
    "elif nota >= 50 and nota <= 69:\n",
    "    print(\"Satisfatório!\")\n",
    "elif nota >= 0 and nota <=49:\n",
    "    print(\"Insuficiente!\")\n",
    "else:\n",
    "    print(\"Nota invalida!\")\n"
   ]
  },
  {
   "cell_type": "markdown",
   "id": "6382da5d",
   "metadata": {},
   "source": []
  },
  {
   "cell_type": "code",
   "execution_count": 6,
   "id": "74b8e957",
   "metadata": {},
   "outputs": [
    {
     "name": "stdout",
     "output_type": "stream",
     "text": [
      "Insira o valor da sua compra: 600\n",
      "Você recebeu 10% de desconto!\n",
      "Valor do desconto: 60.00\n",
      "Valor Final: 540.0\n"
     ]
    }
   ],
   "source": [
    "#exercicio\n",
    "\n",
    "compra = float(input(\"Insira o valor da sua compra: \"))\n",
    "\n",
    "if compra > 1000:\n",
    "    \n",
    "    desconto = 0.20 * compra\n",
    "    \n",
    "    print(\"Você recebeu 20% de desconto!\")\n",
    "\n",
    "    print(f\"Valor do desconto: {desconto:.2f}\")\n",
    "\n",
    "elif compra >= 500 and compra <= 1000:\n",
    "    \n",
    "    desconto = 0.10 * compra\n",
    "    \n",
    "    print(\"Você recebeu 10% de desconto!\")\n",
    "\n",
    "    print(f\"Valor do desconto: {desconto:.2f}\")\n",
    "    \n",
    "else: \n",
    "    desconto = 0\n",
    "    \n",
    "valor_final = compra - desconto\n",
    "print(f\"Valor Final: {valor_final}\")"
   ]
  },
  {
   "cell_type": "markdown",
   "id": "eb1635bd",
   "metadata": {},
   "source": []
  },
  {
   "cell_type": "code",
   "execution_count": 8,
   "id": "3eb20330",
   "metadata": {},
   "outputs": [
    {
     "name": "stdout",
     "output_type": "stream",
     "text": [
      "\n"
     ]
    }
   ],
   "source": [
    "\"\"\"\n",
    "If ... or\n",
    "SE ... ou\n",
    "\"\"\"\n",
    "print()"
   ]
  },
  {
   "cell_type": "markdown",
   "id": "b64499a6",
   "metadata": {},
   "source": []
  },
  {
   "cell_type": "code",
   "execution_count": 11,
   "id": "c0c2873e",
   "metadata": {},
   "outputs": [
    {
     "name": "stdout",
     "output_type": "stream",
     "text": [
      "O 19 é maior que 150 ou 18!\n"
     ]
    }
   ],
   "source": [
    "num1 = 19\n",
    "num2 = 150\n",
    "num3 = 18\n",
    "\n",
    "if num1 > num2 or num1 > num3:\n",
    "    print(f\"O {num1} é maior que {num2} ou {num3}!\")"
   ]
  },
  {
   "cell_type": "markdown",
   "id": "3a4d9970",
   "metadata": {},
   "source": []
  },
  {
   "cell_type": "code",
   "execution_count": 22,
   "id": "cf0c02ca",
   "metadata": {},
   "outputs": [
    {
     "name": "stdout",
     "output_type": "stream",
     "text": [
      "Tem convite vip? não\n",
      "Seu nome está na lista? não\n",
      "É membro do clube? não\n",
      "Não pode entrar!\n"
     ]
    }
   ],
   "source": [
    "#exercicio\n",
    "\n",
    "estradavip = input(\"Tem convite vip? \")\n",
    "lista = input(\"Seu nome está na lista? \")\n",
    "membro = input(\"É membro do clube? \")\n",
    "\n",
    "if estradavip == 'sim' or lista == 'sim' or membro == 'sim':\n",
    "    print(\"Pode entrar no evento!\")\n",
    "elif estradavip == 'não' or lista == 'não' or membro == 'não':\n",
    "    print(\"Não pode entrar!\")\n",
    "else:\n",
    "    print(\"Resposta inválida!\")"
   ]
  },
  {
   "cell_type": "markdown",
   "id": "64791f8d",
   "metadata": {},
   "source": []
  },
  {
   "cell_type": "code",
   "execution_count": 24,
   "id": "c784cdb7",
   "metadata": {},
   "outputs": [
    {
     "name": "stdout",
     "output_type": "stream",
     "text": [
      "Digite um número: 5\n",
      "O número 5 é IMPAR\n"
     ]
    }
   ],
   "source": [
    "#exercicio\n",
    "\n",
    "num1 = int(input(\"Digite um número: \"))\n",
    "\n",
    "verifica = num1 % 2\n",
    "\n",
    "if verifica == 0:\n",
    "    print(\"O número,\", num1, \"é PAR\")\n",
    "else:\n",
    "    print(\"O número\", num1, \"é IMPAR\")"
   ]
  },
  {
   "cell_type": "markdown",
   "id": "bd5a5ba2",
   "metadata": {},
   "source": []
  },
  {
   "cell_type": "code",
   "execution_count": 43,
   "id": "170c7249",
   "metadata": {},
   "outputs": [
    {
     "name": "stdout",
     "output_type": "stream",
     "text": [
      "menor de idade\n"
     ]
    }
   ],
   "source": [
    "#estrutura condicional ternária\n",
    "\n",
    "idade = 16\n",
    "status = \"adulto\" if idade >= 18 else \"menor de idade\"\n",
    "print(status)"
   ]
  },
  {
   "cell_type": "markdown",
   "id": "e2f935ac",
   "metadata": {},
   "source": []
  },
  {
   "cell_type": "code",
   "execution_count": 49,
   "id": "d8f33055",
   "metadata": {},
   "outputs": [
    {
     "name": "stdout",
     "output_type": "stream",
     "text": [
      "par\n"
     ]
    }
   ],
   "source": [
    "#estruta condicional ternaria\n",
    "\n",
    "num = 42\n",
    "resultado = \"par\" if num % 2 == 0 else \"impar\"\n",
    "print(resultado)"
   ]
  },
  {
   "cell_type": "markdown",
   "id": "b7394b17",
   "metadata": {},
   "source": []
  },
  {
   "cell_type": "code",
   "execution_count": 66,
   "id": "4043c2ef",
   "metadata": {},
   "outputs": [
    {
     "name": "stdout",
     "output_type": "stream",
     "text": [
      "media\n"
     ]
    }
   ],
   "source": [
    "#exercicio\n",
    "\n",
    "score = 75\n",
    "nota = \"baixa\" if score < 50 else \"media\" if score < 80 else \"alta\"\n",
    "print(nota)"
   ]
  },
  {
   "cell_type": "code",
   "execution_count": null,
   "id": "a258b15e",
   "metadata": {},
   "outputs": [],
   "source": []
  },
  {
   "cell_type": "code",
   "execution_count": 74,
   "id": "5587274c",
   "metadata": {},
   "outputs": [
    {
     "name": "stdout",
     "output_type": "stream",
     "text": [
      "Insira uma idade: 90\n",
      "Idoso\n"
     ]
    }
   ],
   "source": [
    "#exercicio\n",
    "\n",
    "idade = int(input(\"Insira uma idade: \"))\n",
    "\n",
    "if idade <= 12:\n",
    "    print(\"Infantil\")\n",
    "elif idade <= 17:\n",
    "    print(\"Adolescente\")\n",
    "elif idade <= 59:\n",
    "    print(\"Adulto\")\n",
    "else:\n",
    "    print(\"Idoso\")\n",
    "    "
   ]
  }
 ],
 "metadata": {
  "kernelspec": {
   "display_name": "Python 3 (ipykernel)",
   "language": "python",
   "name": "python3"
  },
  "language_info": {
   "codemirror_mode": {
    "name": "ipython",
    "version": 3
   },
   "file_extension": ".py",
   "mimetype": "text/x-python",
   "name": "python",
   "nbconvert_exporter": "python",
   "pygments_lexer": "ipython3",
   "version": "3.11.5"
  }
 },
 "nbformat": 4,
 "nbformat_minor": 5
}
