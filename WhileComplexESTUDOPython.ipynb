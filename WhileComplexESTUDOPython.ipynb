{
 "cells": [
  {
   "cell_type": "code",
   "execution_count": 3,
   "id": "13032f78",
   "metadata": {},
   "outputs": [
    {
     "name": "stdout",
     "output_type": "stream",
     "text": [
      "x: 5, y: 15\n",
      "x: 6, y: 14\n",
      "x: 7, y: 13\n",
      "x: 8, y: 12\n",
      "x: 9, y: 11\n",
      "Loop conluido!\n",
      "Valores finais - x: 10, y: 10\n"
     ]
    }
   ],
   "source": [
    "x, y = 5, 15\n",
    "\n",
    "while x < 10 and y > 10:\n",
    "    print(f\"x: {x}, y: {y}\")\n",
    "    \n",
    "    x += 1\n",
    "    y -= 1\n",
    "\n",
    "print(\"Loop conluido!\")\n",
    "print(f\"Valores finais - x: {x}, y: {y}\")"
   ]
  },
  {
   "cell_type": "code",
   "execution_count": null,
   "id": "1f9d8fe0",
   "metadata": {},
   "outputs": [],
   "source": []
  },
  {
   "cell_type": "code",
   "execution_count": 10,
   "id": "c2c4b9dd",
   "metadata": {},
   "outputs": [
    {
     "name": "stdout",
     "output_type": "stream",
     "text": [
      "Tentativas Restantes: 5\n",
      "Adivinhe o primeiro número secreto (1-10): 7\n",
      "Adivinhe o segundo número secreto (1-10): 5\n",
      "Você adivinhou o primeiro número!\n",
      "Você adivinhou o segundo número!\n",
      "Parabéns! Você adivinhou ambos os números!\n"
     ]
    }
   ],
   "source": [
    "numero_secreto1 = 7\n",
    "numero_secreto2 = 5\n",
    "\n",
    "tentativas = 5\n",
    "\n",
    "adivinhou1 = False\n",
    "adivinhou2 = False\n",
    "\n",
    "while tentativas > 0 and (not adivinhou1 == True or not adivinhou2 == True):\n",
    "    \n",
    "    print(f\"Tentativas Restantes: {tentativas}\")\n",
    "    \n",
    "    palpite1 = int(input(\"Adivinhe o primeiro número secreto (1-10): \"))\n",
    "    palpite2 = int(input(\"Adivinhe o segundo número secreto (1-10): \"))\n",
    "    \n",
    "    if palpite1 == numero_secreto1:\n",
    "        print(\"Você adivinhou o primeiro número!\")\n",
    "        \n",
    "        adivinhou1 = True\n",
    "        \n",
    "    if palpite2 == numero_secreto2:\n",
    "        print(\"Você adivinhou o segundo número!\")\n",
    "        \n",
    "        adivinhou2 = True\n",
    "        \n",
    "    if not adivinhou1 == True or not adivinhou2 == True:\n",
    "        print(\"Tente novamente!\")\n",
    "        \n",
    "        tentativas -= 1\n",
    "        \n",
    "if adivinhou1 == True and adivinhou2 == True:\n",
    "    print(\"Parabéns! Você adivinhou ambos os números!\")\n",
    "    \n",
    "    \n",
    "else:\n",
    "    print(f\"Você não conseguiu adivinhar os números, eles eram {numero_secreto1} e {numero_secreto2}.\")\n",
    "    \n",
    "        "
   ]
  },
  {
   "cell_type": "code",
   "execution_count": null,
   "id": "ccf340f5",
   "metadata": {},
   "outputs": [],
   "source": []
  }
 ],
 "metadata": {
  "kernelspec": {
   "display_name": "Python 3 (ipykernel)",
   "language": "python",
   "name": "python3"
  },
  "language_info": {
   "codemirror_mode": {
    "name": "ipython",
    "version": 3
   },
   "file_extension": ".py",
   "mimetype": "text/x-python",
   "name": "python",
   "nbconvert_exporter": "python",
   "pygments_lexer": "ipython3",
   "version": "3.11.5"
  }
 },
 "nbformat": 4,
 "nbformat_minor": 5
}
